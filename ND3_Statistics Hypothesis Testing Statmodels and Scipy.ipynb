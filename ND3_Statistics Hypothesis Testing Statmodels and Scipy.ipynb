{
 "cells": [
  {
   "cell_type": "code",
   "execution_count": 1,
   "metadata": {},
   "outputs": [
    {
     "data": {
      "text/html": [
       "<div>\n",
       "<style scoped>\n",
       "    .dataframe tbody tr th:only-of-type {\n",
       "        vertical-align: middle;\n",
       "    }\n",
       "\n",
       "    .dataframe tbody tr th {\n",
       "        vertical-align: top;\n",
       "    }\n",
       "\n",
       "    .dataframe thead th {\n",
       "        text-align: right;\n",
       "    }\n",
       "</style>\n",
       "<table border=\"1\" class=\"dataframe\">\n",
       "  <thead>\n",
       "    <tr style=\"text-align: right;\">\n",
       "      <th></th>\n",
       "      <th>user_id</th>\n",
       "      <th>age</th>\n",
       "      <th>drinks_coffee</th>\n",
       "      <th>height</th>\n",
       "    </tr>\n",
       "  </thead>\n",
       "  <tbody>\n",
       "    <tr>\n",
       "      <th>0</th>\n",
       "      <td>4509</td>\n",
       "      <td>&lt;21</td>\n",
       "      <td>False</td>\n",
       "      <td>64.538179</td>\n",
       "    </tr>\n",
       "    <tr>\n",
       "      <th>1</th>\n",
       "      <td>1864</td>\n",
       "      <td>&gt;=21</td>\n",
       "      <td>True</td>\n",
       "      <td>65.824249</td>\n",
       "    </tr>\n",
       "    <tr>\n",
       "      <th>2</th>\n",
       "      <td>2060</td>\n",
       "      <td>&lt;21</td>\n",
       "      <td>False</td>\n",
       "      <td>71.319854</td>\n",
       "    </tr>\n",
       "  </tbody>\n",
       "</table>\n",
       "</div>"
      ],
      "text/plain": [
       "   user_id   age  drinks_coffee     height\n",
       "0     4509   <21          False  64.538179\n",
       "1     1864  >=21           True  65.824249\n",
       "2     2060   <21          False  71.319854"
      ]
     },
     "metadata": {},
     "output_type": "display_data"
    }
   ],
   "source": [
    "# analyzing how heights range based on coffee drinking habbits and age\n",
    "\n",
    "import pandas as pd\n",
    "import numpy as np\n",
    "import matplotlib.pyplot as plt\n",
    "from IPython.display import display as disp\n",
    "\n",
    "np.random.seed(42) # same seed as another rto be able to make comparisons from psuedorandom samples \n",
    "\n",
    "coffee_full = pd.read_csv('coffee_dataset.csv')  \n",
    "coffee_red = coffee_full.sample(150) # red for reduced  # command for getting a random sample from ma dataframe\n",
    "\n",
    "disp(coffee_full.head(3))"
   ]
  },
  {
   "cell_type": "code",
   "execution_count": 5,
   "metadata": {},
   "outputs": [
    {
     "data": {
      "text/plain": [
       "(67.10804415057915, 68.16154315987828)"
      ]
     },
     "metadata": {},
     "output_type": "display_data"
    },
    {
     "data": {
      "text/plain": [
       "<matplotlib.lines.Line2D at 0x23f04d16e20>"
      ]
     },
     "execution_count": 5,
     "metadata": {},
     "output_type": "execute_result"
    },
    {
     "data": {
      "image/png": "[encoded data removed]",
      "text/plain": [
       "<Figure size 432x288 with 1 Axes>"
      ]
     },
     "metadata": {
      "needs_background": "light"
     },
     "output_type": "display_data"
    }
   ],
   "source": [
    "means = []\n",
    "\n",
    "for i in range(10000):\n",
    "    bootsample = coffee_red.sample(150, replace =True)\n",
    "    means.append(bootsample['height'].mean())\n",
    "    \n",
    "confidence_interval_mean = np.percentile(means, 2.5),np.percentile(means, 97.5)\n",
    "disp(confidence_interval_mean)\n",
    "\n",
    "# lets plot mean sampling distribution \n",
    "plt.hist(means, edgecolor='black', linewidth=1, color = 'orange', alpha = 0.5)\n",
    "\n",
    "plt.axvline(x = confidence_interval_mean[0], color = 'red')\n",
    "plt.axvline(x = confidence_interval_mean[1], color = 'red')"
   ]
  },
  {
   "cell_type": "code",
   "execution_count": 4,
   "metadata": {},
   "outputs": [
    {
     "data": {
      "text/plain": [
       "0.2658039514418037"
      ]
     },
     "metadata": {},
     "output_type": "display_data"
    },
    {
     "data": {
      "text/plain": [
       "67.63297688228066"
      ]
     },
     "metadata": {},
     "output_type": "display_data"
    },
    {
     "data": {
      "text/plain": [
       "<matplotlib.lines.Line2D at 0x23f04c51880>"
      ]
     },
     "execution_count": 4,
     "metadata": {},
     "output_type": "execute_result"
    },
    {
     "data": {
      "image/png": "[encoded data removed]",
      "text/plain": [
       "<Figure size 432x288 with 1 Axes>"
      ]
     },
     "metadata": {
      "needs_background": "light"
     },
     "output_type": "display_data"
    }
   ],
   "source": [
    "# Here we assume that our null hypothesis is true and we take the value from hull hypothesis\n",
    "# that is closest to the alternative (70 in our case)\n",
    "\n",
    "# then we see the standard deviation of the sampling distribution means\n",
    "# std_70 = means.std() throws error as list has no method std\n",
    "std_70 = np.std(means)\n",
    "disp(std_70)\n",
    "\n",
    "# Then we create a normal distribution with mean = 70 and std_70\n",
    "null_dist = np.random.normal(70, std_70, 10000)\n",
    "plt.hist(null_dist, edgecolor='black', linewidth=1, color = 'orange', alpha = 0.5)\n",
    "\n",
    "# Then we check the actual statistic mean and see where it falls in our null_dist\n",
    "disp(coffee_red['height'].mean())\n",
    "plt.axvline(x = coffee_red['height'].mean(), color = 'red')"
   ]
  },
  {
   "cell_type": "code",
   "execution_count": null,
   "metadata": {},
   "outputs": [],
   "source": [
    "##########################################################################################################################\n",
    "##########################################################################################################################"
   ]
  },
  {
   "cell_type": "markdown",
   "metadata": {},
   "source": [
    "<div style=\"background-color:rgba(255, 0, 0, 0.2)\">\n",
    "\n",
    "# Common hypothesis tests include:\n",
    "\n",
    "### - Testing a population mean (One sample t-test).\n",
    "\n",
    "### - Testing the difference in means (Two sample t-test)\n",
    "\n",
    "### - Testing the difference before and after some treatment on the same individual (Paired t-test)\n",
    "\n",
    "### - Testing a population proportion (One sample z-test)\n",
    "\n",
    "### - Testing the difference between population proportions (Two sample z-test)\n",
    "    \n",
    "</div>\n",
    "\n",
    "\n"
   ]
  },
  {
   "cell_type": "markdown",
   "metadata": {},
   "source": [
    "<div style=\"background-color:rgba(0, 255, 0, 0.2)\">\n",
    "\n",
    "# One sample T-Test (to test the mean)\n",
    "    \n",
    "</div>\n"
   ]
  },
  {
   "cell_type": "code",
   "execution_count": 6,
   "metadata": {},
   "outputs": [],
   "source": [
    "# A One sample T-test for mean height"
   ]
  },
  {
   "cell_type": "code",
   "execution_count": 82,
   "metadata": {},
   "outputs": [
    {
     "data": {
      "text/plain": [
       "67.59748697307937"
      ]
     },
     "execution_count": 82,
     "metadata": {},
     "output_type": "execute_result"
    }
   ],
   "source": [
    "from statsmodels.stats.weightstats import DescrStatsW \n",
    "\n",
    "# One_sample_ttest ---> DescrStatsW.ttest_mean\n",
    "\n",
    "from scipy.stats import ttest_1samp as One_sample_ttest\n",
    "\n",
    "# scipy always gives the test statistic as signed. This means that given p and t values from a two-tailed test, \n",
    "# you would reject the null hypothesis of a greater-than test when p/2 < alpha and t > 0, and of a less-than test \n",
    "# when p/2 < alpha and t < 0.\n",
    "\n",
    "coffee_full['height'].mean()"
   ]
  },
  {
   "cell_type": "markdown",
   "metadata": {},
   "source": [
    "$$H_0: h_{mean} = 70$$\n",
    "$$H_1: h_{mean} \\neq 70$$"
   ]
  },
  {
   "cell_type": "code",
   "execution_count": 37,
   "metadata": {},
   "outputs": [
    {
     "data": {
      "text/plain": [
       "-42.00108817355559"
      ]
     },
     "metadata": {},
     "output_type": "display_data"
    },
    {
     "data": {
      "text/plain": [
       "4.3206547622747683e-303"
      ]
     },
     "metadata": {},
     "output_type": "display_data"
    },
    {
     "data": {
      "text/plain": [
       "-42.00108817355559"
      ]
     },
     "metadata": {},
     "output_type": "display_data"
    },
    {
     "data": {
      "text/plain": [
       "4.3206547622747683e-303"
      ]
     },
     "metadata": {},
     "output_type": "display_data"
    }
   ],
   "source": [
    "# With statmodels\n",
    "\n",
    "# first we need to create a DescrStatsW object for oy data\n",
    "DescrStatsW_obj = DescrStatsW(coffee_full['height'])\n",
    "t_stat, p_stat, degF = DescrStatsW_obj.ttest_mean(value = 70,  alternative='two-sided')\n",
    "disp(t_stat, p_stat)\n",
    "\n",
    "# WE REJECT THE NULL\n",
    "\n",
    "# With scipy\n",
    "t_stat, p_stat = One_sample_ttest(coffee_full['height'], 70)\n",
    "disp(t_stat, p_stat)\n",
    "\n",
    "# scipy always gives the test statistic as signed. This means that given p and t values from a two-tailed test, \n",
    "# you would reject the null hypothesis of a greater-than test when p/2 < alpha and t > 0, and of a less-than test \n",
    "# when p/2 < alpha and t < 0.\n",
    "\n",
    "# WE REJECT THE NULL"
   ]
  },
  {
   "cell_type": "markdown",
   "metadata": {},
   "source": [
    "$$H_0: h_{mean} \\leq 70$$\n",
    "$$H_1: h_{mean} > 70$$"
   ]
  },
  {
   "cell_type": "code",
   "execution_count": 53,
   "metadata": {},
   "outputs": [
    {
     "data": {
      "text/plain": [
       "-42.00108817355559"
      ]
     },
     "metadata": {},
     "output_type": "display_data"
    },
    {
     "data": {
      "text/plain": [
       "1.0"
      ]
     },
     "metadata": {},
     "output_type": "display_data"
    },
    {
     "data": {
      "text/plain": [
       "-42.00108817355559"
      ]
     },
     "metadata": {},
     "output_type": "display_data"
    },
    {
     "data": {
      "text/plain": [
       "4.3206547622747683e-303"
      ]
     },
     "metadata": {},
     "output_type": "display_data"
    }
   ],
   "source": [
    "# With statmodels\n",
    "\n",
    "# first we need to create a DescrStatsW object for oy data\n",
    "DescrStatsW_obj = DescrStatsW(coffee_full['height'])\n",
    "t_stat, p_stat, degF = DescrStatsW_obj.ttest_mean(value = 70,  alternative='larger')\n",
    "disp(t_stat, p_stat)\n",
    "\n",
    "# WE FAIL TO REJECT THE NULL\n",
    "\n",
    "# With scipy does not accept alternative keyword for some unknown reason\n",
    "t_stat, p_stat = One_sample_ttest(coffee_full['height'], 70)\n",
    "disp(t_stat, p_stat)\n",
    "\n",
    "# scipy always gives the test statistic as signed. This means that given p and t values from a two-tailed test, \n",
    "# you would reject the null hypothesis of a greater-than test when p/2 < alpha and t > 0, and of a less-than test \n",
    "# when p/2 < alpha and t < 0.\n",
    "\n",
    "# WE FAIL TO REJECT THE NULL"
   ]
  },
  {
   "cell_type": "markdown",
   "metadata": {},
   "source": [
    "$$H_0: h_{mean} \\geq 70$$\n",
    "$$H_1: h_{mean} < 70$$"
   ]
  },
  {
   "cell_type": "code",
   "execution_count": 54,
   "metadata": {},
   "outputs": [
    {
     "data": {
      "text/plain": [
       "-42.00108817355559"
      ]
     },
     "metadata": {},
     "output_type": "display_data"
    },
    {
     "data": {
      "text/plain": [
       "2.1603273811373842e-303"
      ]
     },
     "metadata": {},
     "output_type": "display_data"
    },
    {
     "data": {
      "text/plain": [
       "-42.00108817355559"
      ]
     },
     "metadata": {},
     "output_type": "display_data"
    },
    {
     "data": {
      "text/plain": [
       "2.1603273811373842e-303"
      ]
     },
     "metadata": {},
     "output_type": "display_data"
    }
   ],
   "source": [
    "# With statmodels\n",
    "\n",
    "# first we need to create a DescrStatsW object for oy data\n",
    "DescrStatsW_obj = DescrStatsW(coffee_full['height'])\n",
    "t_stat, p_stat, degF = DescrStatsW_obj.ttest_mean(value = 70,  alternative='smaller')\n",
    "disp(t_stat, p_stat)\n",
    "\n",
    "# WE REJECT THE NULL\n",
    "\n",
    "# With scipy does not accept alternative keyword for some unknown reason\n",
    "t_stat, p_stat = One_sample_ttest(coffee_full['height'], 70)\n",
    "disp(t_stat, p_stat/2)\n",
    "\n",
    "# scipy always gives the test statistic as signed. This means that given p and t values from a two-tailed test, \n",
    "# you would reject the null hypothesis of a greater-than test when p/2 < alpha and t > 0, and of a less-than test \n",
    "# when p/2 < alpha and t < 0.\n",
    "\n",
    "# WE REJECT THE NULL"
   ]
  },
  {
   "cell_type": "markdown",
   "metadata": {},
   "source": [
    "<div style=\"background-color:rgba(0, 255, 0, 0.2)\">\n",
    "\n",
    "# Two sample T-Test (to compare means / test difference of means fro independent data)\n",
    "    \n",
    "</div>\n",
    "\n",
    "\n"
   ]
  },
  {
   "cell_type": "markdown",
   "metadata": {},
   "source": [
    "### Difference between Z-test and t-test: Z-test is used when sample size is large (n>50), or the population variance is known. t-test is used when sample size is small (n<50) and population variance is unknown.\n",
    "\n",
    "Both essestially do the same thing."
   ]
  },
  {
   "cell_type": "code",
   "execution_count": null,
   "metadata": {},
   "outputs": [],
   "source": [
    "# A Two sample T-test for difference in means of heights between coffee drinkers and no coffee drinkers"
   ]
  },
  {
   "cell_type": "code",
   "execution_count": 84,
   "metadata": {},
   "outputs": [
    {
     "data": {
      "text/plain": [
       "1.9568024933369657"
      ]
     },
     "execution_count": 84,
     "metadata": {},
     "output_type": "execute_result"
    }
   ],
   "source": [
    "from statsmodels.stats.weightstats import CompareMeans \n",
    "\n",
    "# Two_sample_ttest ---> CompareMeans.ttest_ind\n",
    "\n",
    "from scipy.stats import ttest_ind as Two_sample_ttest\n",
    "\n",
    "coffee_full[coffee_full['drinks_coffee']==True]['height'].mean() - coffee_full[coffee_full['drinks_coffee']==False]['height'].mean()"
   ]
  },
  {
   "cell_type": "markdown",
   "metadata": {},
   "source": [
    "$$H_0: h_{c,mean} - h_{nc,mean} = 0$$\n",
    "$$H_1: h_{c,mean} - h_{nc,mean} \\neq 0$$"
   ]
  },
  {
   "cell_type": "code",
   "execution_count": 67,
   "metadata": {},
   "outputs": [
    {
     "data": {
      "text/plain": [
       "17.687015602592847"
      ]
     },
     "metadata": {},
     "output_type": "display_data"
    },
    {
     "data": {
      "text/plain": [
       "1.2214047126683823e-66"
      ]
     },
     "metadata": {},
     "output_type": "display_data"
    },
    {
     "data": {
      "text/plain": [
       "17.687015602592847"
      ]
     },
     "metadata": {},
     "output_type": "display_data"
    },
    {
     "data": {
      "text/plain": [
       "5.279875078897718e-70"
      ]
     },
     "metadata": {},
     "output_type": "display_data"
    },
    {
     "data": {
      "text/plain": [
       "17.687015602592975"
      ]
     },
     "metadata": {},
     "output_type": "display_data"
    },
    {
     "data": {
      "text/plain": [
       "1.2214047126657702e-66"
      ]
     },
     "metadata": {},
     "output_type": "display_data"
    }
   ],
   "source": [
    "# With statmodels\n",
    "\n",
    "# first we need to create a DescrStatsW object for oy data\n",
    "coff_h = coffee_full[coffee_full['drinks_coffee']==True]['height']\n",
    "nocoff_h = coffee_full[coffee_full['drinks_coffee']==False]['height']\n",
    "DescrStatsW_obj_coff = DescrStatsW(coff_h)\n",
    "DescrStatsW_obj_no_coff = DescrStatsW(nocoff_h)\n",
    "\n",
    "cm_obj = CompareMeans(DescrStatsW_obj_coff, DescrStatsW_obj_no_coff)\n",
    "\n",
    "t_stat, p_stat, degF = cm_obj.ttest_ind(value = 0,  alternative='two-sided')\n",
    "disp(t_stat, p_stat)\n",
    "\n",
    "# ttest vs ztest?\n",
    "t_stat, p_stat = cm_obj.ztest_ind(value = 0,  alternative='two-sided')\n",
    "disp(t_stat, p_stat)\n",
    "\n",
    "# WE REJECT THE NULL\n",
    "\n",
    "# With scipy\n",
    "t_stat, p_stat = Two_sample_ttest(coff_h,nocoff_h)\n",
    "disp(t_stat, p_stat)\n",
    "\n",
    "# scipy always gives the test statistic as signed. This means that given p and t values from a two-tailed test, \n",
    "# you would reject the null hypothesis of a greater-than test when p/2 < alpha and t > 0, and of a less-than test \n",
    "# when p/2 < alpha and t < 0.\n",
    "\n",
    "# WE REJECT THE NULL"
   ]
  },
  {
   "cell_type": "markdown",
   "metadata": {},
   "source": [
    "$$H_0: h_{c,mean} - h_{nc,mean} \\leq 0$$\n",
    "$$H_1: h_{c,mean} - h_{nc,mean} > 0$$"
   ]
  },
  {
   "cell_type": "code",
   "execution_count": 68,
   "metadata": {},
   "outputs": [
    {
     "data": {
      "text/plain": [
       "17.687015602592847"
      ]
     },
     "metadata": {},
     "output_type": "display_data"
    },
    {
     "data": {
      "text/plain": [
       "6.107023563341912e-67"
      ]
     },
     "metadata": {},
     "output_type": "display_data"
    },
    {
     "data": {
      "text/plain": [
       "17.687015602592847"
      ]
     },
     "metadata": {},
     "output_type": "display_data"
    },
    {
     "data": {
      "text/plain": [
       "2.639937539448859e-70"
      ]
     },
     "metadata": {},
     "output_type": "display_data"
    },
    {
     "data": {
      "text/plain": [
       "17.687015602592975"
      ]
     },
     "metadata": {},
     "output_type": "display_data"
    },
    {
     "data": {
      "text/plain": [
       "1.2214047126657702e-66"
      ]
     },
     "metadata": {},
     "output_type": "display_data"
    }
   ],
   "source": [
    "# With statmodels\n",
    "\n",
    "# first we need to create a DescrStatsW object for oy data\n",
    "coff_h = coffee_full[coffee_full['drinks_coffee']==True]['height']\n",
    "nocoff_h = coffee_full[coffee_full['drinks_coffee']==False]['height']\n",
    "DescrStatsW_obj_coff = DescrStatsW(coff_h)\n",
    "DescrStatsW_obj_no_coff = DescrStatsW(nocoff_h)\n",
    "\n",
    "cm_obj = CompareMeans(DescrStatsW_obj_coff, DescrStatsW_obj_no_coff)\n",
    "\n",
    "t_stat, p_stat, degF = cm_obj.ttest_ind(value = 0,  alternative='larger')\n",
    "disp(t_stat, p_stat)\n",
    "\n",
    "# ttest vs ztest?\n",
    "t_stat, p_stat = cm_obj.ztest_ind(value = 0,  alternative='larger')\n",
    "disp(t_stat, p_stat)\n",
    "\n",
    "# WE REJECT THE NULL\n",
    "\n",
    "# With scipy\n",
    "t_stat, p_stat = Two_sample_ttest(coff_h,nocoff_h)\n",
    "disp(t_stat, p_stat)\n",
    "\n",
    "# scipy always gives the test statistic as signed. This means that given p and t values from a two-tailed test, \n",
    "# you would reject the null hypothesis of a greater-than test when p/2 < alpha and t > 0, and of a less-than test \n",
    "# when p/2 < alpha and t < 0.\n",
    "\n",
    "# WE REJECT THE NULL"
   ]
  },
  {
   "cell_type": "markdown",
   "metadata": {},
   "source": [
    "$$H_0: h_{c,mean} - h_{nc,mean} \\geq 0$$\n",
    "$$H_1: h_{c,mean} - h_{nc,mean} < 0$$"
   ]
  },
  {
   "cell_type": "code",
   "execution_count": 69,
   "metadata": {},
   "outputs": [
    {
     "data": {
      "text/plain": [
       "17.687015602592847"
      ]
     },
     "metadata": {},
     "output_type": "display_data"
    },
    {
     "data": {
      "text/plain": [
       "1.0"
      ]
     },
     "metadata": {},
     "output_type": "display_data"
    },
    {
     "data": {
      "text/plain": [
       "17.687015602592847"
      ]
     },
     "metadata": {},
     "output_type": "display_data"
    },
    {
     "data": {
      "text/plain": [
       "1.0"
      ]
     },
     "metadata": {},
     "output_type": "display_data"
    },
    {
     "data": {
      "text/plain": [
       "17.687015602592975"
      ]
     },
     "metadata": {},
     "output_type": "display_data"
    },
    {
     "data": {
      "text/plain": [
       "1.2214047126657702e-66"
      ]
     },
     "metadata": {},
     "output_type": "display_data"
    }
   ],
   "source": [
    "# With statmodels\n",
    "\n",
    "# first we need to create a DescrStatsW object for oy data\n",
    "coff_h = coffee_full[coffee_full['drinks_coffee']==True]['height']\n",
    "nocoff_h = coffee_full[coffee_full['drinks_coffee']==False]['height']\n",
    "DescrStatsW_obj_coff = DescrStatsW(coff_h)\n",
    "DescrStatsW_obj_no_coff = DescrStatsW(nocoff_h)\n",
    "\n",
    "cm_obj = CompareMeans(DescrStatsW_obj_coff, DescrStatsW_obj_no_coff)\n",
    "\n",
    "t_stat, p_stat, degF = cm_obj.ttest_ind(value = 0,  alternative='smaller')\n",
    "disp(t_stat, p_stat)\n",
    "\n",
    "# ttest vs ztest?\n",
    "t_stat, p_stat = cm_obj.ztest_ind(value = 0,  alternative='smaller')\n",
    "disp(t_stat, p_stat)\n",
    "\n",
    "# WE FAIL TO REJECT THE NULL\n",
    "\n",
    "# With scipy\n",
    "t_stat, p_stat = Two_sample_ttest(coff_h,nocoff_h)\n",
    "disp(t_stat, p_stat)\n",
    "\n",
    "# scipy always gives the test statistic as signed. This means that given p and t values from a two-tailed test, \n",
    "# you would reject the null hypothesis of a greater-than test when p/2 < alpha and t > 0, and of a less-than test \n",
    "# when p/2 < alpha and t < 0.\n",
    "\n",
    "# WE FAIL TO REJECT THE NULL"
   ]
  },
  {
   "cell_type": "markdown",
   "metadata": {},
   "source": [
    "<div style=\"background-color:rgba(0, 255, 0, 0.2)\">\n",
    "\n",
    "# paired sample T-Test (to compare means / test difference of means of data that are NOT INDEPENDENT)\n",
    "    \n",
    "</div>\n",
    "\n",
    "\n"
   ]
  },
  {
   "cell_type": "code",
   "execution_count": 61,
   "metadata": {},
   "outputs": [
    {
     "data": {
      "text/html": [
       "<div>\n",
       "<style scoped>\n",
       "    .dataframe tbody tr th:only-of-type {\n",
       "        vertical-align: middle;\n",
       "    }\n",
       "\n",
       "    .dataframe tbody tr th {\n",
       "        vertical-align: top;\n",
       "    }\n",
       "\n",
       "    .dataframe thead th {\n",
       "        text-align: right;\n",
       "    }\n",
       "</style>\n",
       "<table border=\"1\" class=\"dataframe\">\n",
       "  <thead>\n",
       "    <tr style=\"text-align: right;\">\n",
       "      <th></th>\n",
       "      <th>user_id</th>\n",
       "      <th>age</th>\n",
       "      <th>drinks_coffee</th>\n",
       "      <th>height</th>\n",
       "      <th>height_plus_10</th>\n",
       "    </tr>\n",
       "  </thead>\n",
       "  <tbody>\n",
       "    <tr>\n",
       "      <th>0</th>\n",
       "      <td>4509</td>\n",
       "      <td>&lt;21</td>\n",
       "      <td>False</td>\n",
       "      <td>64.538179</td>\n",
       "      <td>74.538179</td>\n",
       "    </tr>\n",
       "    <tr>\n",
       "      <th>1</th>\n",
       "      <td>1864</td>\n",
       "      <td>&gt;=21</td>\n",
       "      <td>True</td>\n",
       "      <td>65.824249</td>\n",
       "      <td>75.824249</td>\n",
       "    </tr>\n",
       "    <tr>\n",
       "      <th>2</th>\n",
       "      <td>2060</td>\n",
       "      <td>&lt;21</td>\n",
       "      <td>False</td>\n",
       "      <td>71.319854</td>\n",
       "      <td>81.319854</td>\n",
       "    </tr>\n",
       "    <tr>\n",
       "      <th>3</th>\n",
       "      <td>7875</td>\n",
       "      <td>&gt;=21</td>\n",
       "      <td>True</td>\n",
       "      <td>68.569404</td>\n",
       "      <td>78.569404</td>\n",
       "    </tr>\n",
       "    <tr>\n",
       "      <th>4</th>\n",
       "      <td>6254</td>\n",
       "      <td>&lt;21</td>\n",
       "      <td>True</td>\n",
       "      <td>64.020226</td>\n",
       "      <td>74.020226</td>\n",
       "    </tr>\n",
       "  </tbody>\n",
       "</table>\n",
       "</div>"
      ],
      "text/plain": [
       "   user_id   age  drinks_coffee     height  height_plus_10\n",
       "0     4509   <21          False  64.538179       74.538179\n",
       "1     1864  >=21           True  65.824249       75.824249\n",
       "2     2060   <21          False  71.319854       81.319854\n",
       "3     7875  >=21           True  68.569404       78.569404\n",
       "4     6254   <21           True  64.020226       74.020226"
      ]
     },
     "execution_count": 61,
     "metadata": {},
     "output_type": "execute_result"
    }
   ],
   "source": [
    "# a paired sample t_test of heigts and (10 + heights)\n",
    "\n",
    "coffee_full['height_plus_10'] = coffee_full['height'] + 10\n",
    "coffee_full.head()"
   ]
  },
  {
   "cell_type": "code",
   "execution_count": 58,
   "metadata": {},
   "outputs": [],
   "source": [
    "from statsmodels.stats.weightstats import ttost_paired\n",
    "\n",
    "from scipy.stats import ttest_rel as Paired_sample_ttest"
   ]
  },
  {
   "cell_type": "markdown",
   "metadata": {},
   "source": [
    "$$H_0: (md < low)  .or.  (md > upp)$$\n",
    "$$H_1: low < md < upp$$"
   ]
  },
  {
   "cell_type": "code",
   "execution_count": 65,
   "metadata": {},
   "outputs": [
    {
     "data": {
      "text/plain": [
       "0.0"
      ]
     },
     "metadata": {},
     "output_type": "display_data"
    },
    {
     "data": {
      "text/plain": [
       "(5.859932923722277e+16, 0.0, 2973.0)"
      ]
     },
     "metadata": {},
     "output_type": "display_data"
    },
    {
     "data": {
      "text/plain": [
       "(-5.859932923722277e+16, 0.0, 2973.0)"
      ]
     },
     "metadata": {},
     "output_type": "display_data"
    },
    {
     "data": {
      "text/plain": [
       "1.0"
      ]
     },
     "metadata": {},
     "output_type": "display_data"
    },
    {
     "data": {
      "text/plain": [
       "(1.4649832309305693e+17, 0.0, 2973.0)"
      ]
     },
     "metadata": {},
     "output_type": "display_data"
    },
    {
     "data": {
      "text/plain": [
       "(5.859932923722277e+16, 1.0, 2973.0)"
      ]
     },
     "metadata": {},
     "output_type": "display_data"
    }
   ],
   "source": [
    "# md is the mean expected value of the difference between the paired samples (mean(x1 - x2))\n",
    "# for our simple case it doesnt need to be computed as we know it is 10\n",
    "\n",
    "pval, lower_values_tuple, upper_values_tuple = ttost_paired(coffee_full['height_plus_10'], coffee_full['height'], low = 8, upp = 12)\n",
    "disp(pval)\n",
    "disp(lower_values_tuple)\n",
    "disp(upper_values_tuple)\n",
    "\n",
    "# low = 8; upp = 12\n",
    "# WE REJECT THE NULL (which was expected as we set our md = 10)\n",
    "\n",
    "pval, lower_values_tuple, upper_values_tuple = ttost_paired(coffee_full['height_plus_10'], coffee_full['height'], low = 5, upp = 8)\n",
    "disp(pval)\n",
    "disp(lower_values_tuple)\n",
    "disp(upper_values_tuple)\n",
    "\n",
    "# low = 5; upp = 8\n",
    "# WE FAIL TO REJECT THE NULL (which was expected as we set our md = 10)\n"
   ]
  },
  {
   "cell_type": "markdown",
   "metadata": {},
   "source": [
    "$$H_0: md = 0$$\n",
    "$$H_1: md \\neq 0$$"
   ]
  },
  {
   "cell_type": "code",
   "execution_count": 80,
   "metadata": {},
   "outputs": [
    {
     "data": {
      "text/plain": [
       "2.9299664618611386e+17"
      ]
     },
     "metadata": {},
     "output_type": "display_data"
    },
    {
     "data": {
      "text/plain": [
       "0.0"
      ]
     },
     "metadata": {},
     "output_type": "display_data"
    },
    {
     "data": {
      "text/plain": [
       "nan"
      ]
     },
     "metadata": {},
     "output_type": "display_data"
    },
    {
     "data": {
      "text/plain": [
       "nan"
      ]
     },
     "metadata": {},
     "output_type": "display_data"
    },
    {
     "data": {
      "text/plain": [
       "0.9166392032476258"
      ]
     },
     "metadata": {},
     "output_type": "display_data"
    },
    {
     "data": {
      "text/plain": [
       "0.35940608187468537"
      ]
     },
     "metadata": {},
     "output_type": "display_data"
    }
   ],
   "source": [
    "# using scipy\n",
    "\n",
    "# THIS IS DIFFERENT THAN ttost_paired. This is a simple two sided test (if the means differ?)\n",
    "\n",
    "stat, pval = Paired_sample_ttest(coffee_full['height_plus_10'], coffee_full['height'])\n",
    "disp(stat)\n",
    "disp(pval)\n",
    "\n",
    "# WE REJECT THE NULL (results are expected as md = 10)\n",
    "\n",
    "stat, pval = Paired_sample_ttest(coffee_full['height'], coffee_full['height'])\n",
    "disp(stat)\n",
    "disp(pval)\n",
    "\n",
    "# returns nan as there is no difference\n",
    "coffee_full['similar_heights'] = np.random.normal(coffee_full['height'].mean()*1.00001, coffee_full['height'].std(), coffee_full.shape[0])\n",
    "stat, pval = Paired_sample_ttest(coffee_full['similar_heights'], coffee_full['height'])\n",
    "disp(stat)\n",
    "disp(pval)"
   ]
  },
  {
   "cell_type": "markdown",
   "metadata": {},
   "source": [
    "<div style=\"background-color:rgba(0, 255, 0, 0.2)\">\n",
    "\n",
    "# One sample Z-Test (to test the propotion)\n",
    "    \n",
    "</div>\n",
    "\n",
    "\n"
   ]
  },
  {
   "cell_type": "code",
   "execution_count": 22,
   "metadata": {},
   "outputs": [],
   "source": [
    "# A One sample z-test for propotion of coffee drinkers"
   ]
  },
  {
   "cell_type": "code",
   "execution_count": 81,
   "metadata": {},
   "outputs": [
    {
     "data": {
      "text/plain": [
       "0.589778076664425"
      ]
     },
     "execution_count": 81,
     "metadata": {},
     "output_type": "execute_result"
    }
   ],
   "source": [
    "from statsmodels.stats.proportion import proportions_ztest\n",
    "\n",
    "# applys to both one and two samples\n",
    "\n",
    "(coffee_full['drinks_coffee']==1).mean()"
   ]
  },
  {
   "cell_type": "markdown",
   "metadata": {},
   "source": [
    "$$H_0: p_{coff} = 0.5$$\n",
    "$$H_1: p_{coff} \\neq 0.5$$"
   ]
  },
  {
   "cell_type": "code",
   "execution_count": 86,
   "metadata": {},
   "outputs": [
    {
     "data": {
      "text/plain": [
       "9.95375698744604"
      ]
     },
     "metadata": {},
     "output_type": "display_data"
    },
    {
     "data": {
      "text/plain": [
       "2.4283847917850152e-23"
      ]
     },
     "metadata": {},
     "output_type": "display_data"
    }
   ],
   "source": [
    "counts =(coffee_full['drinks_coffee']==1).sum()\n",
    "nobs = coffee_full.shape[0]\n",
    "z_score, pval = proportions_ztest(counts, nobs, value = 0.5, alternative = 'two-sided')\n",
    "disp(z_score)\n",
    "disp(pval)\n",
    "\n",
    "# WE REJECT THE NULL"
   ]
  },
  {
   "cell_type": "markdown",
   "metadata": {},
   "source": [
    "$$H_0: p_{coff} \\leq 0.5$$\n",
    "$$H_1: p_{coff} > 0.5$$"
   ]
  },
  {
   "cell_type": "code",
   "execution_count": 87,
   "metadata": {},
   "outputs": [
    {
     "data": {
      "text/plain": [
       "9.95375698744604"
      ]
     },
     "metadata": {},
     "output_type": "display_data"
    },
    {
     "data": {
      "text/plain": [
       "1.2141923958925076e-23"
      ]
     },
     "metadata": {},
     "output_type": "display_data"
    }
   ],
   "source": [
    "counts =(coffee_full['drinks_coffee']==1).sum()\n",
    "nobs = coffee_full.shape[0]\n",
    "z_score, pval = proportions_ztest(counts, nobs, value = 0.5, alternative = 'larger')\n",
    "disp(z_score)\n",
    "disp(pval)\n",
    "\n",
    "# WE REJECT THE NULL"
   ]
  },
  {
   "cell_type": "markdown",
   "metadata": {},
   "source": [
    "$$H_0: p_{coff} \\geq 0.5$$\n",
    "$$H_1: p_{coff} < 0.5$$"
   ]
  },
  {
   "cell_type": "code",
   "execution_count": 88,
   "metadata": {},
   "outputs": [
    {
     "data": {
      "text/plain": [
       "9.95375698744604"
      ]
     },
     "metadata": {},
     "output_type": "display_data"
    },
    {
     "data": {
      "text/plain": [
       "1.0"
      ]
     },
     "metadata": {},
     "output_type": "display_data"
    }
   ],
   "source": [
    "counts =(coffee_full['drinks_coffee']==1).sum()\n",
    "nobs = coffee_full.shape[0]\n",
    "z_score, pval = proportions_ztest(counts, nobs, value = 0.5, alternative = 'smaller')\n",
    "disp(z_score)\n",
    "disp(pval)\n",
    "\n",
    "# WE FAIL TO REJECT THE NULL"
   ]
  },
  {
   "cell_type": "markdown",
   "metadata": {},
   "source": [
    "<div style=\"background-color:rgba(0, 255, 0, 0.2)\">\n",
    "\n",
    "# Two sample Z-Test (to compare propotions / test difference of propotions)\n",
    "    \n",
    "</div>\n",
    "\n",
    "\n",
    "\n"
   ]
  },
  {
   "cell_type": "code",
   "execution_count": 94,
   "metadata": {},
   "outputs": [
    {
     "data": {
      "text/plain": [
       "0.1962406015037594"
      ]
     },
     "execution_count": 94,
     "metadata": {},
     "output_type": "execute_result"
    }
   ],
   "source": [
    "from statsmodels.stats.proportion import proportions_ztest\n",
    "\n",
    "# applys to both one and two samples\n",
    "old_21 = coffee_full[coffee_full['age']=='>=21']\n",
    "young_21 = coffee_full[coffee_full['age']=='<21']\n",
    "(old_21['drinks_coffee']==True).mean() - (young_21['drinks_coffee']==True).mean()"
   ]
  },
  {
   "cell_type": "markdown",
   "metadata": {},
   "source": [
    "$$H_0: p_{c,adult} - p_{c,notadult} = 0$$\n",
    "$$H_1: p_{c,adult} - p_{c,notadult} \\neq 0$$"
   ]
  },
  {
   "cell_type": "code",
   "execution_count": 104,
   "metadata": {},
   "outputs": [
    {
     "data": {
      "text/plain": [
       "39.24440466729966"
      ]
     },
     "metadata": {},
     "output_type": "display_data"
    },
    {
     "data": {
      "text/plain": [
       "0.0"
      ]
     },
     "metadata": {},
     "output_type": "display_data"
    }
   ],
   "source": [
    "counts = np.array([(old_21['drinks_coffee']==True).sum(), (young_21['drinks_coffee']==True).sum()])\n",
    "nobs = np.array([old_21.shape[0], young_21.shape[0]])\n",
    "z_score, pval = proportions_ztest(counts, nobs, value = 0, alternative = 'two-sided')\n",
    "disp(z_score)\n",
    "disp(pval)\n",
    "\n",
    "# WE REJECT THE NULL"
   ]
  },
  {
   "cell_type": "markdown",
   "metadata": {},
   "source": [
    "$$H_0: p_{c,adult} - p_{c,notadult} \\leq 0$$\n",
    "$$H_1: p_{c,adult} - p_{c,notadult} > 0$$"
   ]
  },
  {
   "cell_type": "code",
   "execution_count": 105,
   "metadata": {},
   "outputs": [
    {
     "data": {
      "text/plain": [
       "39.24440466729966"
      ]
     },
     "metadata": {},
     "output_type": "display_data"
    },
    {
     "data": {
      "text/plain": [
       "0.0"
      ]
     },
     "metadata": {},
     "output_type": "display_data"
    }
   ],
   "source": [
    "counts = np.array([(old_21['drinks_coffee']==True).sum(), (young_21['drinks_coffee']==True).sum()])\n",
    "nobs = np.array([old_21.shape[0], young_21.shape[0]])\n",
    "z_score, pval = proportions_ztest(counts, nobs, value = 0, alternative = 'larger')\n",
    "disp(z_score)\n",
    "disp(pval)\n",
    "\n",
    "# WE REJECT THE NULL"
   ]
  },
  {
   "cell_type": "markdown",
   "metadata": {},
   "source": [
    "$$H_0: p_{c,adult} - p_{c,notadult} \\geq 0$$\n",
    "$$H_1: p_{c,adult} - p_{c,notadult} < 0$$"
   ]
  },
  {
   "cell_type": "code",
   "execution_count": 107,
   "metadata": {},
   "outputs": [
    {
     "data": {
      "text/plain": [
       "39.24440466729966"
      ]
     },
     "metadata": {},
     "output_type": "display_data"
    },
    {
     "data": {
      "text/plain": [
       "1.0"
      ]
     },
     "metadata": {},
     "output_type": "display_data"
    }
   ],
   "source": [
    "counts = np.array([(old_21['drinks_coffee']==True).sum(), (young_21['drinks_coffee']==True).sum()])\n",
    "nobs = np.array([old_21.shape[0], young_21.shape[0]])\n",
    "z_score, pval = proportions_ztest(counts, nobs, value = 0, alternative = 'smaller')\n",
    "disp(z_score)\n",
    "disp(pval)\n",
    "\n",
    "# WE FAIL TO REJECT THE NULL"
   ]
  },
  {
   "cell_type": "markdown",
   "metadata": {},
   "source": [
    "<div style=\"background-color:rgba(255, 0, 0, 0.2)\">\n",
    "\n",
    "# What if samples are not normally distributed? (which is the assumption for t-test)\n",
    "    \n",
    "</div>\n",
    "\n",
    "\n",
    "\n",
    "\n",
    "\n"
   ]
  },
  {
   "cell_type": "markdown",
   "metadata": {},
   "source": [
    "<div style=\"background-color:rgba(0, 255, 0, 0.2)\">\n",
    "\n",
    "# We do a signed test instead\n",
    "https://www.statsmodels.org/stable/generated/statsmodels.stats.descriptivestats.sign_test.html\n",
    "    \n",
    "</div>"
   ]
  },
  {
   "cell_type": "markdown",
   "metadata": {},
   "source": [
    "<div style=\"background-color:rgba(0, 255, 0, 0.2)\">\n",
    "\n",
    "# First we check if our data is normally distributed or not (other than a histogram), to decide which test to use?\n",
    "# We can do that using the scipy.stats.shapiro test (other tests are available too)\n",
    "https://pythonfordatascienceorg.wordpress.com/paired-samples-t-test-python/\n",
    "    \n",
    "https://docs.scipy.org/doc/scipy/reference/generated/scipy.stats.shapiro.html\n",
    "</div>\n",
    "\n"
   ]
  },
  {
   "cell_type": "code",
   "execution_count": 108,
   "metadata": {},
   "outputs": [],
   "source": []
  },
  {
   "cell_type": "code",
   "execution_count": null,
   "metadata": {},
   "outputs": [],
   "source": []
  }
 ],
 "metadata": {
  "kernelspec": {
   "display_name": "Python 3",
   "language": "python",
   "name": "python3"
  },
  "language_info": {
   "codemirror_mode": {
    "name": "ipython",
    "version": 3
   },
   "file_extension": ".py",
   "mimetype": "text/x-python",
   "name": "python",
   "nbconvert_exporter": "python",
   "pygments_lexer": "ipython3",
   "version": "3.8.5"
  }
 },
 "nbformat": 4,
 "nbformat_minor": 4
}
